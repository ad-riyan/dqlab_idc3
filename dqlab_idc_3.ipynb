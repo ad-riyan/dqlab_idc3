{
 "cells": [
  {
   "cell_type": "markdown",
   "metadata": {},
   "source": [
    "<br><br>\n",
    "\n",
    "# DQLab Internal Data Challenge 3\n",
    "\n",
    "### Adriyan\n",
    "\n",
    "<br><br>"
   ]
  },
  {
   "cell_type": "code",
   "execution_count": 1,
   "metadata": {},
   "outputs": [],
   "source": [
    "import mysql.connector\n",
    "import pandas as pd\n",
    "import numpy as np\n",
    "\n",
    "import matplotlib.pyplot as plt\n",
    "import seaborn as sns\n",
    "\n",
    "sns.set(palette=\"deep\", font_scale=1.2)\n"
   ]
  },
  {
   "cell_type": "markdown",
   "metadata": {},
   "source": [
    "[**Relational database of UW_std**](https://relational.fit.cvut.cz/dataset/UW-CSE)\n",
    "\n",
    "![Relational database of UW_std](https://relational.fit.cvut.cz/assets/img/datasets-generated/UW_std.svg)"
   ]
  },
  {
   "cell_type": "markdown",
   "metadata": {},
   "source": [
    "<br><br>\n",
    "\n",
    "## 1. Acquiring database `UW_std` from `host=\"relational.fit.cvut.cz\"`"
   ]
  },
  {
   "cell_type": "markdown",
   "metadata": {},
   "source": [
    "Creating MySQL connection as `my_conn` "
   ]
  },
  {
   "cell_type": "code",
   "execution_count": 2,
   "metadata": {},
   "outputs": [],
   "source": [
    "my_conn = mysql.connector.connect(host=\"relational.fit.cvut.cz\",\n",
    "                                  port=3306,\n",
    "                                  user=\"guest\",\n",
    "                                  passwd=\"relational\",\n",
    "                                  database=\"UW_std\",\n",
    "                                  use_pure=True)"
   ]
  },
  {
   "cell_type": "markdown",
   "metadata": {},
   "source": [
    "Creating a SQL query `my_query` for querying the database `UW_std`"
   ]
  },
  {
   "cell_type": "code",
   "execution_count": 3,
   "metadata": {},
   "outputs": [],
   "source": [
    "my_query = \"\"\"\n",
    "            SELECT p.*, a.p_id_dummy, t.course_id, c.courseLevel\n",
    "            FROM person AS p\n",
    "            LEFT OUTER JOIN advisedBy AS a\n",
    "            ON p.p_id = a.p_id\n",
    "            LEFT OUTER JOIN taughtBy AS t\n",
    "            ON p.p_id = t.p_id\n",
    "            LEFT OUTER JOIN course AS c\n",
    "            ON t.course_id = c.course_id\n",
    "           \"\"\""
   ]
  },
  {
   "cell_type": "markdown",
   "metadata": {},
   "source": [
    "Read the database which stored into `pandas.DataFrame` as `my_df` from the query `my_query` and the connection `my_conn`"
   ]
  },
  {
   "cell_type": "code",
   "execution_count": 4,
   "metadata": {},
   "outputs": [],
   "source": [
    "my_df = pd.read_sql_query(my_query, my_conn)"
   ]
  },
  {
   "cell_type": "markdown",
   "metadata": {},
   "source": [
    "Store the acquired database `my_df` into a CSV file: `uw_cse.csv`  "
   ]
  },
  {
   "cell_type": "code",
   "execution_count": 5,
   "metadata": {},
   "outputs": [],
   "source": [
    "my_df.to_csv(\"uw_cse.csv\", index=False)"
   ]
  },
  {
   "cell_type": "markdown",
   "metadata": {},
   "source": [
    "Close the connection `my_conn` and delete `my_df`"
   ]
  },
  {
   "cell_type": "code",
   "execution_count": 6,
   "metadata": {},
   "outputs": [],
   "source": [
    "my_conn.close()\n",
    "del(my_df)"
   ]
  },
  {
   "cell_type": "markdown",
   "metadata": {},
   "source": [
    "<br><br>\n",
    "\n",
    "## 2. Analyze the data set which already dumped into CSV file"
   ]
  },
  {
   "cell_type": "markdown",
   "metadata": {},
   "source": [
    "Read the csv file `uw_cse.csv`"
   ]
  },
  {
   "cell_type": "code",
   "execution_count": 7,
   "metadata": {},
   "outputs": [
    {
     "name": "stdout",
     "output_type": "stream",
     "text": [
      "<class 'pandas.core.frame.DataFrame'>\n",
      "RangeIndex: 425 entries, 0 to 424\n",
      "Data columns (total 9 columns):\n",
      "p_id              425 non-null int64\n",
      "professor         425 non-null int64\n",
      "student           425 non-null int64\n",
      "hasPosition       425 non-null object\n",
      "inPhase           425 non-null object\n",
      "yearsInProgram    425 non-null object\n",
      "p_id_dummy        113 non-null float64\n",
      "course_id         189 non-null float64\n",
      "courseLevel       189 non-null object\n",
      "dtypes: float64(2), int64(3), object(4)\n",
      "memory usage: 30.0+ KB\n"
     ]
    }
   ],
   "source": [
    "my_df = pd.read_csv(\"uw_cse.csv\")\n",
    "my_df.info()"
   ]
  },
  {
   "cell_type": "markdown",
   "metadata": {},
   "source": [
    "Changing few columns"
   ]
  },
  {
   "cell_type": "code",
   "execution_count": 8,
   "metadata": {},
   "outputs": [
    {
     "name": "stdout",
     "output_type": "stream",
     "text": [
      "<class 'pandas.core.frame.DataFrame'>\n",
      "RangeIndex: 425 entries, 0 to 424\n",
      "Data columns (total 9 columns):\n",
      "p_id              425 non-null uint16\n",
      "professor         425 non-null uint8\n",
      "student           425 non-null uint8\n",
      "hasPosition       425 non-null object\n",
      "inPhase           425 non-null object\n",
      "yearsInProgram    425 non-null object\n",
      "p_id_dummy        113 non-null Int32\n",
      "course_id         189 non-null Int32\n",
      "courseLevel       189 non-null object\n",
      "dtypes: Int32(2), object(4), uint16(1), uint8(2)\n",
      "memory usage: 19.2+ KB\n"
     ]
    }
   ],
   "source": [
    "my_df = (my_df.astype({\"p_id\": np.uint16,\n",
    "                      \"professor\": np.uint8,\n",
    "                      \"student\": np.uint8,\n",
    "                      \"p_id_dummy\": pd.Int32Dtype(),\n",
    "                      \"course_id\": pd.Int32Dtype()})\n",
    "        )\n",
    "my_df.info()"
   ]
  },
  {
   "cell_type": "code",
   "execution_count": 9,
   "metadata": {},
   "outputs": [
    {
     "data": {
      "text/html": [
       "<div>\n",
       "<style scoped>\n",
       "    .dataframe tbody tr th:only-of-type {\n",
       "        vertical-align: middle;\n",
       "    }\n",
       "\n",
       "    .dataframe tbody tr th {\n",
       "        vertical-align: top;\n",
       "    }\n",
       "\n",
       "    .dataframe thead th {\n",
       "        text-align: right;\n",
       "    }\n",
       "</style>\n",
       "<table border=\"1\" class=\"dataframe\">\n",
       "  <thead>\n",
       "    <tr style=\"text-align: right;\">\n",
       "      <th></th>\n",
       "      <th>p_id</th>\n",
       "      <th>professor</th>\n",
       "      <th>student</th>\n",
       "      <th>hasPosition</th>\n",
       "      <th>inPhase</th>\n",
       "      <th>yearsInProgram</th>\n",
       "      <th>p_id_dummy</th>\n",
       "      <th>course_id</th>\n",
       "      <th>courseLevel</th>\n",
       "    </tr>\n",
       "  </thead>\n",
       "  <tbody>\n",
       "    <tr>\n",
       "      <td>0</td>\n",
       "      <td>3</td>\n",
       "      <td>0</td>\n",
       "      <td>1</td>\n",
       "      <td>0</td>\n",
       "      <td>0</td>\n",
       "      <td>0</td>\n",
       "      <td>NaN</td>\n",
       "      <td>NaN</td>\n",
       "      <td>NaN</td>\n",
       "    </tr>\n",
       "    <tr>\n",
       "      <td>1</td>\n",
       "      <td>4</td>\n",
       "      <td>0</td>\n",
       "      <td>1</td>\n",
       "      <td>0</td>\n",
       "      <td>0</td>\n",
       "      <td>0</td>\n",
       "      <td>NaN</td>\n",
       "      <td>NaN</td>\n",
       "      <td>NaN</td>\n",
       "    </tr>\n",
       "    <tr>\n",
       "      <td>2</td>\n",
       "      <td>5</td>\n",
       "      <td>1</td>\n",
       "      <td>0</td>\n",
       "      <td>Faculty</td>\n",
       "      <td>0</td>\n",
       "      <td>0</td>\n",
       "      <td>NaN</td>\n",
       "      <td>19</td>\n",
       "      <td>Level_500</td>\n",
       "    </tr>\n",
       "    <tr>\n",
       "      <td>3</td>\n",
       "      <td>5</td>\n",
       "      <td>1</td>\n",
       "      <td>0</td>\n",
       "      <td>Faculty</td>\n",
       "      <td>0</td>\n",
       "      <td>0</td>\n",
       "      <td>NaN</td>\n",
       "      <td>51</td>\n",
       "      <td>Level_400</td>\n",
       "    </tr>\n",
       "    <tr>\n",
       "      <td>4</td>\n",
       "      <td>5</td>\n",
       "      <td>1</td>\n",
       "      <td>0</td>\n",
       "      <td>Faculty</td>\n",
       "      <td>0</td>\n",
       "      <td>0</td>\n",
       "      <td>NaN</td>\n",
       "      <td>71</td>\n",
       "      <td>Level_500</td>\n",
       "    </tr>\n",
       "    <tr>\n",
       "      <td>5</td>\n",
       "      <td>6</td>\n",
       "      <td>0</td>\n",
       "      <td>1</td>\n",
       "      <td>0</td>\n",
       "      <td>Post_Quals</td>\n",
       "      <td>Year_2</td>\n",
       "      <td>29</td>\n",
       "      <td>NaN</td>\n",
       "      <td>NaN</td>\n",
       "    </tr>\n",
       "    <tr>\n",
       "      <td>6</td>\n",
       "      <td>6</td>\n",
       "      <td>0</td>\n",
       "      <td>1</td>\n",
       "      <td>0</td>\n",
       "      <td>Post_Quals</td>\n",
       "      <td>Year_2</td>\n",
       "      <td>165</td>\n",
       "      <td>NaN</td>\n",
       "      <td>NaN</td>\n",
       "    </tr>\n",
       "    <tr>\n",
       "      <td>7</td>\n",
       "      <td>7</td>\n",
       "      <td>1</td>\n",
       "      <td>0</td>\n",
       "      <td>Faculty_adj</td>\n",
       "      <td>0</td>\n",
       "      <td>0</td>\n",
       "      <td>NaN</td>\n",
       "      <td>NaN</td>\n",
       "      <td>NaN</td>\n",
       "    </tr>\n",
       "    <tr>\n",
       "      <td>8</td>\n",
       "      <td>9</td>\n",
       "      <td>0</td>\n",
       "      <td>1</td>\n",
       "      <td>0</td>\n",
       "      <td>Post_Generals</td>\n",
       "      <td>Year_5</td>\n",
       "      <td>335</td>\n",
       "      <td>124</td>\n",
       "      <td>Level_300</td>\n",
       "    </tr>\n",
       "    <tr>\n",
       "      <td>9</td>\n",
       "      <td>13</td>\n",
       "      <td>0</td>\n",
       "      <td>1</td>\n",
       "      <td>0</td>\n",
       "      <td>Post_Generals</td>\n",
       "      <td>Year_7</td>\n",
       "      <td>240</td>\n",
       "      <td>NaN</td>\n",
       "      <td>NaN</td>\n",
       "    </tr>\n",
       "  </tbody>\n",
       "</table>\n",
       "</div>"
      ],
      "text/plain": [
       "   p_id  professor  student  hasPosition        inPhase yearsInProgram  \\\n",
       "0     3          0        1            0              0              0   \n",
       "1     4          0        1            0              0              0   \n",
       "2     5          1        0      Faculty              0              0   \n",
       "3     5          1        0      Faculty              0              0   \n",
       "4     5          1        0      Faculty              0              0   \n",
       "5     6          0        1            0     Post_Quals         Year_2   \n",
       "6     6          0        1            0     Post_Quals         Year_2   \n",
       "7     7          1        0  Faculty_adj              0              0   \n",
       "8     9          0        1            0  Post_Generals         Year_5   \n",
       "9    13          0        1            0  Post_Generals         Year_7   \n",
       "\n",
       "   p_id_dummy  course_id courseLevel  \n",
       "0         NaN        NaN         NaN  \n",
       "1         NaN        NaN         NaN  \n",
       "2         NaN         19   Level_500  \n",
       "3         NaN         51   Level_400  \n",
       "4         NaN         71   Level_500  \n",
       "5          29        NaN         NaN  \n",
       "6         165        NaN         NaN  \n",
       "7         NaN        NaN         NaN  \n",
       "8         335        124   Level_300  \n",
       "9         240        NaN         NaN  "
      ]
     },
     "execution_count": 9,
     "metadata": {},
     "output_type": "execute_result"
    }
   ],
   "source": [
    "my_df.head(10)"
   ]
  },
  {
   "cell_type": "markdown",
   "metadata": {},
   "source": [
    "<br>\n",
    "\n",
    "#### Finding some insight from dataset `my_df`"
   ]
  },
  {
   "cell_type": "markdown",
   "metadata": {},
   "source": [
    "**a. Students who advised by professors**"
   ]
  },
  {
   "cell_type": "code",
   "execution_count": 10,
   "metadata": {},
   "outputs": [
    {
     "data": {
      "image/png": "[encoded data removed]",
      "text/plain": [
       "<Figure size 432x864 with 1 Axes>"
      ]
     },
     "metadata": {
      "needs_background": "light"
     },
     "output_type": "display_data"
    }
   ],
   "source": [
    "_a_ = (my_df.groupby(by=\"p_id_dummy\", sort=True, as_index=False)\n",
    "           .agg(\"count\")[[\"p_id_dummy\", \"student\"]]\n",
    "      )\n",
    "\n",
    "fig = plt.figure(figsize=(6, 12))\n",
    "ax = fig.subplots()\n",
    "sns.barplot(data=_a_, y=\"p_id_dummy\", x=\"student\", hue=\"student\",\n",
    "            dodge=False, ax=ax, orient='h')\n",
    "ax.set_xlabel(\"\\nNumber of students\")\n",
    "ax.set_ylabel(\"Professor with p_id\\n\")\n",
    "ax.legend(\"\")\n",
    "plt.title(\"\\nNumber of students who advised by each professor\\n\");\n"
   ]
  },
  {
   "cell_type": "markdown",
   "metadata": {},
   "source": [
    "**>>> INSIGHT:**\n",
    "\n",
    "Here the top six of professors advised students in term of number of students"
   ]
  },
  {
   "cell_type": "code",
   "execution_count": 11,
   "metadata": {},
   "outputs": [
    {
     "data": {
      "text/html": [
       "<div>\n",
       "<style scoped>\n",
       "    .dataframe tbody tr th:only-of-type {\n",
       "        vertical-align: middle;\n",
       "    }\n",
       "\n",
       "    .dataframe tbody tr th {\n",
       "        vertical-align: top;\n",
       "    }\n",
       "\n",
       "    .dataframe thead th {\n",
       "        text-align: right;\n",
       "    }\n",
       "</style>\n",
       "<table border=\"1\" class=\"dataframe\">\n",
       "  <thead>\n",
       "    <tr style=\"text-align: right;\">\n",
       "      <th></th>\n",
       "      <th>Professor with p_id</th>\n",
       "      <th>Number of students</th>\n",
       "    </tr>\n",
       "  </thead>\n",
       "  <tbody>\n",
       "    <tr>\n",
       "      <td>0</td>\n",
       "      <td>5</td>\n",
       "      <td>5</td>\n",
       "    </tr>\n",
       "    <tr>\n",
       "      <td>1</td>\n",
       "      <td>7</td>\n",
       "      <td>2</td>\n",
       "    </tr>\n",
       "    <tr>\n",
       "      <td>2</td>\n",
       "      <td>29</td>\n",
       "      <td>3</td>\n",
       "    </tr>\n",
       "    <tr>\n",
       "      <td>3</td>\n",
       "      <td>57</td>\n",
       "      <td>1</td>\n",
       "    </tr>\n",
       "    <tr>\n",
       "      <td>4</td>\n",
       "      <td>72</td>\n",
       "      <td>6</td>\n",
       "    </tr>\n",
       "    <tr>\n",
       "      <td>5</td>\n",
       "      <td>79</td>\n",
       "      <td>3</td>\n",
       "    </tr>\n",
       "  </tbody>\n",
       "</table>\n",
       "</div>"
      ],
      "text/plain": [
       "   Professor with p_id  Number of students\n",
       "0                    5                   5\n",
       "1                    7                   2\n",
       "2                   29                   3\n",
       "3                   57                   1\n",
       "4                   72                   6\n",
       "5                   79                   3"
      ]
     },
     "execution_count": 11,
     "metadata": {},
     "output_type": "execute_result"
    }
   ],
   "source": [
    "_a_.rename(columns={\"p_id_dummy\": \"Professor with p_id\",\n",
    "                    \"student\": \"Number of students\"}).head(6)\n"
   ]
  },
  {
   "cell_type": "markdown",
   "metadata": {},
   "source": [
    "<br>\n",
    "\n",
    "**b. Position of professors who acted as student advisor**"
   ]
  },
  {
   "cell_type": "code",
   "execution_count": 12,
   "metadata": {},
   "outputs": [
    {
     "data": {
      "text/html": [
       "<div>\n",
       "<style scoped>\n",
       "    .dataframe tbody tr th:only-of-type {\n",
       "        vertical-align: middle;\n",
       "    }\n",
       "\n",
       "    .dataframe tbody tr th {\n",
       "        vertical-align: top;\n",
       "    }\n",
       "\n",
       "    .dataframe thead th {\n",
       "        text-align: right;\n",
       "    }\n",
       "</style>\n",
       "<table border=\"1\" class=\"dataframe\">\n",
       "  <thead>\n",
       "    <tr style=\"text-align: right;\">\n",
       "      <th></th>\n",
       "      <th>Position</th>\n",
       "      <th>Number of professor</th>\n",
       "    </tr>\n",
       "  </thead>\n",
       "  <tbody>\n",
       "    <tr>\n",
       "      <td>0</td>\n",
       "      <td>0</td>\n",
       "      <td>1</td>\n",
       "    </tr>\n",
       "    <tr>\n",
       "      <td>1</td>\n",
       "      <td>Faculty</td>\n",
       "      <td>32</td>\n",
       "    </tr>\n",
       "    <tr>\n",
       "      <td>2</td>\n",
       "      <td>Faculty_adj</td>\n",
       "      <td>4</td>\n",
       "    </tr>\n",
       "    <tr>\n",
       "      <td>3</td>\n",
       "      <td>Faculty_aff</td>\n",
       "      <td>1</td>\n",
       "    </tr>\n",
       "    <tr>\n",
       "      <td>4</td>\n",
       "      <td>Faculty_eme</td>\n",
       "      <td>1</td>\n",
       "    </tr>\n",
       "  </tbody>\n",
       "</table>\n",
       "</div>"
      ],
      "text/plain": [
       "      Position  Number of professor\n",
       "0            0                    1\n",
       "1      Faculty                   32\n",
       "2  Faculty_adj                    4\n",
       "3  Faculty_aff                    1\n",
       "4  Faculty_eme                    1"
      ]
     },
     "metadata": {},
     "output_type": "display_data"
    },
    {
     "data": {
      "image/png": "[encoded data removed]",
      "text/plain": [
       "<Figure size 576x432 with 1 Axes>"
      ]
     },
     "metadata": {
      "needs_background": "light"
     },
     "output_type": "display_data"
    }
   ],
   "source": [
    "_b_ = (my_df.groupby(by=[\"hasPosition\", \"p_id\"], as_index=False)\n",
    "           .agg(\"min\")\n",
    "           .set_index(\"p_id\")\n",
    "      )\n",
    "_b1_ = (_b_.loc[sorted(_a_[\"p_id_dummy\"]), :]\n",
    "           .reset_index()\n",
    "           .groupby(by=\"hasPosition\", as_index=False)\n",
    "           .agg(\"count\")[[\"hasPosition\", \"professor\"]])\n",
    "\n",
    "fig = plt.figure(figsize=(8, 6))\n",
    "ax = fig.subplots()\n",
    "sns.barplot(data=_b1_, x=\"hasPosition\", y=\"professor\", hue=\"professor\",\n",
    "            dodge=False, ax=ax)\n",
    "ax.set_xlabel(\"\\nPosition of professor\")\n",
    "plt.xticks(rotation=45)\n",
    "ax.set_ylabel(\"Number of professor\\n\")\n",
    "ax.legend(\"\")\n",
    "plt.title(\"\\nNumber of professors who acted as a student advisor\\nbased on their position\\n\");\n",
    "\n",
    "display(_b1_.rename(columns={\"hasPosition\": \"Position\",\n",
    "                             \"professor\": \"Number of professor\"}))"
   ]
  },
  {
   "cell_type": "markdown",
   "metadata": {},
   "source": [
    "**>>> INSIGHT:**\n",
    "\n",
    "Professors which appointed as as *faculty* are the most position who acted as student advisor."
   ]
  },
  {
   "cell_type": "markdown",
   "metadata": {},
   "source": [
    "<br>\n",
    "\n",
    "**c. A combination of a and b**"
   ]
  },
  {
   "cell_type": "code",
   "execution_count": 13,
   "metadata": {},
   "outputs": [
    {
     "data": {
      "image/png": "[encoded data removed]",
      "text/plain": [
       "<Figure size 432x864 with 1 Axes>"
      ]
     },
     "metadata": {
      "needs_background": "light"
     },
     "output_type": "display_data"
    }
   ],
   "source": [
    "_c_ = (_a_.merge(_b_.loc[sorted(_a_[\"p_id_dummy\"]), \"hasPosition\"], \n",
    "                 how=\"left\", left_on=\"p_id_dummy\", right_on=\"p_id\")\n",
    "          .rename(columns={\"p_id_dummy\": \"Professor with p_id\",\n",
    "                           \"student\": \"Number of students\",\n",
    "                           \"hasPosition\": \"Position\"}))\n",
    "\n",
    "fig = plt.figure(figsize=(6, 12))\n",
    "ax = fig.subplots()\n",
    "sns.barplot(data=_c_, x=\"Number of students\", \n",
    "            y=\"Professor with p_id\", hue=\"Position\",\n",
    "            dodge=False, ax=ax, orient=\"h\")\n",
    "ax.set_ylabel(\"Professor with p_id\\n\")\n",
    "ax.set_xlabel(\"\\nNumber of students\")\n",
    "plt.title(\"\\nNumber of students who advised by each professor\\n including the position of professors\\n\");\n"
   ]
  },
  {
   "cell_type": "markdown",
   "metadata": {},
   "source": [
    "<br>\n",
    "\n",
    "**d. Course taught by professor**"
   ]
  },
  {
   "cell_type": "code",
   "execution_count": 32,
   "metadata": {},
   "outputs": [
    {
     "data": {
      "text/html": [
       "<div>\n",
       "<style scoped>\n",
       "    .dataframe tbody tr th:only-of-type {\n",
       "        vertical-align: middle;\n",
       "    }\n",
       "\n",
       "    .dataframe tbody tr th {\n",
       "        vertical-align: top;\n",
       "    }\n",
       "\n",
       "    .dataframe thead th {\n",
       "        text-align: right;\n",
       "    }\n",
       "</style>\n",
       "<table border=\"1\" class=\"dataframe\">\n",
       "  <thead>\n",
       "    <tr style=\"text-align: right;\">\n",
       "      <th></th>\n",
       "      <th>courseLevel</th>\n",
       "      <th>hasPosition</th>\n",
       "      <th>professor</th>\n",
       "    </tr>\n",
       "  </thead>\n",
       "  <tbody>\n",
       "    <tr>\n",
       "      <td>0</td>\n",
       "      <td>Level_300</td>\n",
       "      <td>0</td>\n",
       "      <td>12</td>\n",
       "    </tr>\n",
       "    <tr>\n",
       "      <td>1</td>\n",
       "      <td>Level_300</td>\n",
       "      <td>Faculty</td>\n",
       "      <td>17</td>\n",
       "    </tr>\n",
       "    <tr>\n",
       "      <td>2</td>\n",
       "      <td>Level_300</td>\n",
       "      <td>Faculty_eme</td>\n",
       "      <td>1</td>\n",
       "    </tr>\n",
       "    <tr>\n",
       "      <td>3</td>\n",
       "      <td>Level_400</td>\n",
       "      <td>0</td>\n",
       "      <td>12</td>\n",
       "    </tr>\n",
       "    <tr>\n",
       "      <td>4</td>\n",
       "      <td>Level_400</td>\n",
       "      <td>Faculty</td>\n",
       "      <td>54</td>\n",
       "    </tr>\n",
       "    <tr>\n",
       "      <td>5</td>\n",
       "      <td>Level_400</td>\n",
       "      <td>Faculty_adj</td>\n",
       "      <td>2</td>\n",
       "    </tr>\n",
       "    <tr>\n",
       "      <td>6</td>\n",
       "      <td>Level_400</td>\n",
       "      <td>Faculty_aff</td>\n",
       "      <td>1</td>\n",
       "    </tr>\n",
       "    <tr>\n",
       "      <td>7</td>\n",
       "      <td>Level_400</td>\n",
       "      <td>Faculty_eme</td>\n",
       "      <td>3</td>\n",
       "    </tr>\n",
       "    <tr>\n",
       "      <td>8</td>\n",
       "      <td>Level_500</td>\n",
       "      <td>0</td>\n",
       "      <td>4</td>\n",
       "    </tr>\n",
       "    <tr>\n",
       "      <td>9</td>\n",
       "      <td>Level_500</td>\n",
       "      <td>Faculty</td>\n",
       "      <td>80</td>\n",
       "    </tr>\n",
       "    <tr>\n",
       "      <td>10</td>\n",
       "      <td>Level_500</td>\n",
       "      <td>Faculty_aff</td>\n",
       "      <td>2</td>\n",
       "    </tr>\n",
       "    <tr>\n",
       "      <td>11</td>\n",
       "      <td>Level_500</td>\n",
       "      <td>Faculty_eme</td>\n",
       "      <td>1</td>\n",
       "    </tr>\n",
       "  </tbody>\n",
       "</table>\n",
       "</div>"
      ],
      "text/plain": [
       "   courseLevel  hasPosition  professor\n",
       "0    Level_300            0         12\n",
       "1    Level_300      Faculty         17\n",
       "2    Level_300  Faculty_eme          1\n",
       "3    Level_400            0         12\n",
       "4    Level_400      Faculty         54\n",
       "5    Level_400  Faculty_adj          2\n",
       "6    Level_400  Faculty_aff          1\n",
       "7    Level_400  Faculty_eme          3\n",
       "8    Level_500            0          4\n",
       "9    Level_500      Faculty         80\n",
       "10   Level_500  Faculty_aff          2\n",
       "11   Level_500  Faculty_eme          1"
      ]
     },
     "metadata": {},
     "output_type": "display_data"
    },
    {
     "data": {
      "image/png": "[encoded data removed]",
      "text/plain": [
       "<Figure size 1800x360 with 3 Axes>"
      ]
     },
     "metadata": {
      "needs_background": "light"
     },
     "output_type": "display_data"
    }
   ],
   "source": [
    "_d_ = (my_df.groupby(by=[\"courseLevel\", \"hasPosition\"], \n",
    "                     as_index=False)\n",
    "           .agg(\"count\"))\n",
    "\n",
    "p = sns.catplot(data=_d_, \n",
    "                col=\"courseLevel\",\n",
    "                x=\"hasPosition\",\n",
    "                y=\"professor\", \n",
    "                col_wrap=5,\n",
    "                hue=\"hasPosition\",\n",
    "                dodge=False,\n",
    "                kind=\"bar\")\n",
    "p.set_axis_labels(\"\\nPosition of professors\", \"Number of course taught by professor\\n\")\n",
    "[plt.setp(item.get_xticklabels(), rotation=45) for item in p.axes];\n",
    "\n",
    "display(_d_[[\"courseLevel\", \"hasPosition\", \"professor\"]]\n",
    "            .rename({\"courseLevel\": \"Course on\", \n",
    "                     \"hasPosition\": \"Position\", \n",
    "                     \"professor\": \"Number of course taught by professor\"}))\n"
   ]
  },
  {
   "cell_type": "markdown",
   "metadata": {},
   "source": [
    "<br>\n",
    "\n",
    "**e. Course taken by students**"
   ]
  },
  {
   "cell_type": "code",
   "execution_count": 27,
   "metadata": {},
   "outputs": [
    {
     "data": {
      "text/html": [
       "<div>\n",
       "<style scoped>\n",
       "    .dataframe tbody tr th:only-of-type {\n",
       "        vertical-align: middle;\n",
       "    }\n",
       "\n",
       "    .dataframe tbody tr th {\n",
       "        vertical-align: top;\n",
       "    }\n",
       "\n",
       "    .dataframe thead th {\n",
       "        text-align: right;\n",
       "    }\n",
       "</style>\n",
       "<table border=\"1\" class=\"dataframe\">\n",
       "  <thead>\n",
       "    <tr style=\"text-align: right;\">\n",
       "      <th></th>\n",
       "      <th>courseLevel</th>\n",
       "      <th>inPhase</th>\n",
       "      <th>yearsInProgram</th>\n",
       "      <th>student</th>\n",
       "    </tr>\n",
       "  </thead>\n",
       "  <tbody>\n",
       "    <tr>\n",
       "      <td>0</td>\n",
       "      <td>Level_300</td>\n",
       "      <td>0</td>\n",
       "      <td>27</td>\n",
       "      <td>27</td>\n",
       "    </tr>\n",
       "    <tr>\n",
       "      <td>1</td>\n",
       "      <td>Level_300</td>\n",
       "      <td>Post_Generals</td>\n",
       "      <td>3</td>\n",
       "      <td>3</td>\n",
       "    </tr>\n",
       "    <tr>\n",
       "      <td>2</td>\n",
       "      <td>Level_400</td>\n",
       "      <td>0</td>\n",
       "      <td>67</td>\n",
       "      <td>67</td>\n",
       "    </tr>\n",
       "    <tr>\n",
       "      <td>3</td>\n",
       "      <td>Level_400</td>\n",
       "      <td>Post_Generals</td>\n",
       "      <td>3</td>\n",
       "      <td>3</td>\n",
       "    </tr>\n",
       "    <tr>\n",
       "      <td>4</td>\n",
       "      <td>Level_400</td>\n",
       "      <td>Post_Quals</td>\n",
       "      <td>1</td>\n",
       "      <td>1</td>\n",
       "    </tr>\n",
       "    <tr>\n",
       "      <td>5</td>\n",
       "      <td>Level_400</td>\n",
       "      <td>Pre_Quals</td>\n",
       "      <td>1</td>\n",
       "      <td>1</td>\n",
       "    </tr>\n",
       "    <tr>\n",
       "      <td>6</td>\n",
       "      <td>Level_500</td>\n",
       "      <td>0</td>\n",
       "      <td>86</td>\n",
       "      <td>86</td>\n",
       "    </tr>\n",
       "    <tr>\n",
       "      <td>7</td>\n",
       "      <td>Level_500</td>\n",
       "      <td>Pre_Quals</td>\n",
       "      <td>1</td>\n",
       "      <td>1</td>\n",
       "    </tr>\n",
       "  </tbody>\n",
       "</table>\n",
       "</div>"
      ],
      "text/plain": [
       "  courseLevel        inPhase  yearsInProgram  student\n",
       "0   Level_300              0              27       27\n",
       "1   Level_300  Post_Generals               3        3\n",
       "2   Level_400              0              67       67\n",
       "3   Level_400  Post_Generals               3        3\n",
       "4   Level_400     Post_Quals               1        1\n",
       "5   Level_400      Pre_Quals               1        1\n",
       "6   Level_500              0              86       86\n",
       "7   Level_500      Pre_Quals               1        1"
      ]
     },
     "metadata": {},
     "output_type": "display_data"
    },
    {
     "data": {
      "image/png": "[encoded data removed]",
      "text/plain": [
       "<Figure size 1080x360 with 3 Axes>"
      ]
     },
     "metadata": {
      "needs_background": "light"
     },
     "output_type": "display_data"
    }
   ],
   "source": [
    "_e_ = (my_df.groupby(by=[\"courseLevel\", \"inPhase\"], \n",
    "                     as_index=False)\n",
    "           .agg(\"count\"))\n",
    "\n",
    "p = sns.catplot(data=_e_, \n",
    "                col=\"courseLevel\",\n",
    "                x=\"inPhase\",\n",
    "                y=\"student\",\n",
    "                hue=\"inPhase\",\n",
    "                col_wrap=3,\n",
    "                dodge=False,\n",
    "                kind=\"bar\")\n",
    "p.set_axis_labels(\"\\nin phase\", \"Number of course taken by students\\n\")\n",
    "[plt.setp(item.get_xticklabels(), rotation=45) for item in p.axes];\n",
    "\n",
    "display(_e_[[\"courseLevel\", \"inPhase\", \"yearsInProgram\", \"student\"]])"
   ]
  },
  {
   "cell_type": "code",
   "execution_count": 31,
   "metadata": {},
   "outputs": [
    {
     "data": {
      "text/html": [
       "<div>\n",
       "<style scoped>\n",
       "    .dataframe tbody tr th:only-of-type {\n",
       "        vertical-align: middle;\n",
       "    }\n",
       "\n",
       "    .dataframe tbody tr th {\n",
       "        vertical-align: top;\n",
       "    }\n",
       "\n",
       "    .dataframe thead th {\n",
       "        text-align: right;\n",
       "    }\n",
       "</style>\n",
       "<table border=\"1\" class=\"dataframe\">\n",
       "  <thead>\n",
       "    <tr style=\"text-align: right;\">\n",
       "      <th></th>\n",
       "      <th>courseLevel</th>\n",
       "      <th>inPhase</th>\n",
       "      <th>yearsInProgram</th>\n",
       "      <th>student</th>\n",
       "    </tr>\n",
       "  </thead>\n",
       "  <tbody>\n",
       "    <tr>\n",
       "      <td>0</td>\n",
       "      <td>Level_300</td>\n",
       "      <td>27</td>\n",
       "      <td>0</td>\n",
       "      <td>27</td>\n",
       "    </tr>\n",
       "    <tr>\n",
       "      <td>1</td>\n",
       "      <td>Level_300</td>\n",
       "      <td>1</td>\n",
       "      <td>Year_5</td>\n",
       "      <td>1</td>\n",
       "    </tr>\n",
       "    <tr>\n",
       "      <td>2</td>\n",
       "      <td>Level_300</td>\n",
       "      <td>2</td>\n",
       "      <td>Year_6</td>\n",
       "      <td>2</td>\n",
       "    </tr>\n",
       "    <tr>\n",
       "      <td>3</td>\n",
       "      <td>Level_400</td>\n",
       "      <td>67</td>\n",
       "      <td>0</td>\n",
       "      <td>67</td>\n",
       "    </tr>\n",
       "    <tr>\n",
       "      <td>4</td>\n",
       "      <td>Level_400</td>\n",
       "      <td>1</td>\n",
       "      <td>Year_2</td>\n",
       "      <td>1</td>\n",
       "    </tr>\n",
       "    <tr>\n",
       "      <td>5</td>\n",
       "      <td>Level_400</td>\n",
       "      <td>1</td>\n",
       "      <td>Year_3</td>\n",
       "      <td>1</td>\n",
       "    </tr>\n",
       "    <tr>\n",
       "      <td>6</td>\n",
       "      <td>Level_400</td>\n",
       "      <td>1</td>\n",
       "      <td>Year_5</td>\n",
       "      <td>1</td>\n",
       "    </tr>\n",
       "    <tr>\n",
       "      <td>7</td>\n",
       "      <td>Level_400</td>\n",
       "      <td>2</td>\n",
       "      <td>Year_6</td>\n",
       "      <td>2</td>\n",
       "    </tr>\n",
       "    <tr>\n",
       "      <td>8</td>\n",
       "      <td>Level_500</td>\n",
       "      <td>86</td>\n",
       "      <td>0</td>\n",
       "      <td>86</td>\n",
       "    </tr>\n",
       "    <tr>\n",
       "      <td>9</td>\n",
       "      <td>Level_500</td>\n",
       "      <td>1</td>\n",
       "      <td>Year_2</td>\n",
       "      <td>1</td>\n",
       "    </tr>\n",
       "  </tbody>\n",
       "</table>\n",
       "</div>"
      ],
      "text/plain": [
       "  courseLevel  inPhase yearsInProgram  student\n",
       "0   Level_300       27              0       27\n",
       "1   Level_300        1         Year_5        1\n",
       "2   Level_300        2         Year_6        2\n",
       "3   Level_400       67              0       67\n",
       "4   Level_400        1         Year_2        1\n",
       "5   Level_400        1         Year_3        1\n",
       "6   Level_400        1         Year_5        1\n",
       "7   Level_400        2         Year_6        2\n",
       "8   Level_500       86              0       86\n",
       "9   Level_500        1         Year_2        1"
      ]
     },
     "metadata": {},
     "output_type": "display_data"
    },
    {
     "data": {
      "image/png": "[encoded data removed]",
      "text/plain": [
       "<Figure size 1080x360 with 3 Axes>"
      ]
     },
     "metadata": {
      "needs_background": "light"
     },
     "output_type": "display_data"
    }
   ],
   "source": [
    "_e2_ = (my_df.groupby(by=[\"courseLevel\", \"yearsInProgram\"], \n",
    "                     as_index=False)\n",
    "           .agg(\"count\"))\n",
    "\n",
    "p = sns.catplot(data=_e2_, \n",
    "                col=\"courseLevel\",\n",
    "                x=\"yearsInProgram\",\n",
    "                y=\"student\",\n",
    "                hue=\"yearsInProgram\",\n",
    "                col_wrap=3,\n",
    "                dodge=False,\n",
    "                kind=\"bar\")\n",
    "p.set_axis_labels(\"\\nYears in program\", \"Number of course taken by students\\n\")\n",
    "[plt.setp(item.get_xticklabels(), rotation=45) for item in p.axes];\n",
    "\n",
    "display(_e2_[[\"courseLevel\", \"inPhase\", \"yearsInProgram\", \"student\"]])"
   ]
  },
  {
   "cell_type": "code",
   "execution_count": null,
   "metadata": {},
   "outputs": [],
   "source": []
  }
 ],
 "metadata": {
  "kernelspec": {
   "display_name": "Python 3",
   "language": "python",
   "name": "python3"
  },
  "language_info": {
   "codemirror_mode": {
    "name": "ipython",
    "version": 3
   },
   "file_extension": ".py",
   "mimetype": "text/x-python",
   "name": "python",
   "nbconvert_exporter": "python",
   "pygments_lexer": "ipython3",
   "version": "3.7.4"
  }
 },
 "nbformat": 4,
 "nbformat_minor": 4
}
